{
  "nbformat": 4,
  "nbformat_minor": 0,
  "metadata": {
    "colab": {
      "provenance": [],
      "mount_file_id": "1xxMv7kIKtxyVMaagIEjZQIdG2aA7N_P7",
      "authorship_tag": "ABX9TyOATjSmPChCpNCeDvPAg1/p",
      "include_colab_link": true
    },
    "kernelspec": {
      "name": "python3",
      "display_name": "Python 3"
    },
    "language_info": {
      "name": "python"
    }
  },
  "cells": [
    {
      "cell_type": "markdown",
      "metadata": {
        "id": "view-in-github",
        "colab_type": "text"
      },
      "source": [
        "<a href=\"https://colab.research.google.com/github/imaansh/File-Splitting/blob/main/File_Splitting.ipynb\" target=\"_parent\"><img src=\"https://colab.research.google.com/assets/colab-badge.svg\" alt=\"Open In Colab\"/></a>"
      ]
    },
    {
      "cell_type": "code",
      "execution_count": 1,
      "metadata": {
        "colab": {
          "base_uri": "https://localhost:8080/"
        },
        "id": "J0DVLL8w4PTQ",
        "outputId": "bf03a9ca-4cff-42df-e70f-e0cbd9f11dfb"
      },
      "outputs": [
        {
          "output_type": "stream",
          "name": "stdout",
          "text": [
            "Drive already mounted at /content/drive; to attempt to forcibly remount, call drive.mount(\"/content/drive\", force_remount=True).\n",
            "File split into 7 parts and saved to /content/drive/MyDrive/Split_Customer_Files\n"
          ]
        }
      ],
      "source": [
        "from google.colab import drive\n",
        "import os\n",
        "\n",
        "# Mount Google Drive\n",
        "drive.mount('/content/drive')\n",
        "\n",
        "def split_file_by_size(input_file, output_dir, num_files=7):\n",
        "    \"\"\"\n",
        "    Splits a large text file into multiple smaller files by size and saves them in Google Drive.\n",
        "\n",
        "    Parameters:\n",
        "    - input_file (str): Path to the input text file (e.g., '/content/drive/MyDrive/large_input.txt').\n",
        "    - output_dir (str): Path to the output directory in Google Drive (e.g., '/content/drive/MyDrive/SplitFiles').\n",
        "    - num_files (int): Number of parts to split into.\n",
        "    \"\"\"\n",
        "    # Create the output directory if it doesn't exist\n",
        "    os.makedirs(output_dir, exist_ok=True)\n",
        "\n",
        "    # Calculate approximate size of each split file\n",
        "    file_size = os.path.getsize(input_file)\n",
        "    chunk_size = file_size // num_files  # Target size for each part in bytes\n",
        "\n",
        "    part_num = 1  # Track part number\n",
        "    current_size = 0  # Track current part size in bytes\n",
        "    output_file_path = os.path.join(output_dir, f\"output_part_{part_num}.txt\")\n",
        "    output_file = open(output_file_path, 'w')\n",
        "\n",
        "    with open(input_file, 'r') as f:\n",
        "        for line in f:\n",
        "            # Check if adding this line would exceed the chunk size\n",
        "            current_size += len(line.encode('utf-8'))  # Line size in bytes\n",
        "            if current_size > chunk_size and part_num < num_files:\n",
        "                output_file.close()  # Close the current part file\n",
        "                part_num += 1\n",
        "                output_file_path = os.path.join(output_dir, f\"output_part_{part_num}.txt\")\n",
        "                output_file = open(output_file_path, 'w')  # Open new part file\n",
        "                current_size = len(line.encode('utf-8'))  # Reset size with current line\n",
        "\n",
        "            # Write the line to the current output file\n",
        "            output_file.write(line)\n",
        "\n",
        "    output_file.close()  # Close the last file\n",
        "    print(f\"File split into {part_num} parts and saved to {output_dir}\")\n",
        "\n",
        "# Example Usage\n",
        "# Make sure to replace 'large_input.txt' and the path with your own file and Drive path\n",
        "input_file_path = '/content/drive/MyDrive/Customer/customer_profile_20241022.txt'\n",
        "output_directory = '/content/drive/MyDrive/Split_Customer_Files'\n",
        "split_file_by_size(input_file_path, output_directory, num_files=7)"
      ]
    }
  ]
}